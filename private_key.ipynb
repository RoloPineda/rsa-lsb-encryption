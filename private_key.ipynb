{
 "cells": [
  {
   "cell_type": "code",
   "execution_count": 1,
   "outputs": [],
   "source": [
    "import sys\n",
    "import numpy as np\n",
    "from PIL import Image\n",
    "import rsa"
   ],
   "metadata": {
    "collapsed": false,
    "pycharm": {
     "name": "#%%\n"
    }
   }
  },
  {
   "cell_type": "code",
   "execution_count": 2,
   "outputs": [],
   "source": [
    "def rsa_encrypt(text):\n",
    "    message = text\n",
    "    public_key, private_key = rsa.newkeys(512)\n",
    "    encrypted_message = rsa.encrypt(message.encode(), public_key)\n",
    "    #print(\"Original message: {}\".format(message))\n",
    "    #print(\"Encrypted message: {}\".format(encrypted_message))\n",
    "\n",
    "    #decrypted_message = rsa.decrypt(encrypted_message, private_key).decode()\n",
    "    #print(\"Decoded: {}\".format(decrypted_message))\n",
    "    return public_key, private_key, encrypted_message"
   ],
   "metadata": {
    "collapsed": false,
    "pycharm": {
     "name": "#%%\n"
    }
   }
  },
  {
   "cell_type": "code",
   "execution_count": 3,
   "outputs": [],
   "source": [
    "def rsa_decrypt(private_key_file, encrypted_message):\n",
    "    with open(private_key_file, mode='rb') as privatefile:\n",
    "        keydata = privatefile.read()\n",
    "    privkey = rsa.PrivateKey.load_pkcs1(keydata)\n",
    "    decrypted_message = decrypted_message = rsa.decrypt(encrypted_message, privkey).decode()\n",
    "    return decrypted_message"
   ],
   "metadata": {
    "collapsed": false,
    "pycharm": {
     "name": "#%%\n"
    }
   }
  },
  {
   "cell_type": "code",
   "execution_count": 4,
   "outputs": [],
   "source": [
    "message = \"hello there\"\n",
    "src = \"surfer_in_barrel.png\"\n",
    "key = \"$lmfao\"\n",
    "file_private_key = \"./testing/rsa-lsb.pem\"\n",
    "public_key, private_key, encrypted_message = rsa_encrypt(\"Hello there\")"
   ],
   "metadata": {
    "collapsed": false,
    "pycharm": {
     "name": "#%%\n"
    }
   }
  },
  {
   "cell_type": "code",
   "execution_count": 5,
   "outputs": [
    {
     "data": {
      "text/plain": "bytes"
     },
     "execution_count": 5,
     "metadata": {},
     "output_type": "execute_result"
    }
   ],
   "source": [
    "type(encrypted_message)"
   ],
   "metadata": {
    "collapsed": false,
    "pycharm": {
     "name": "#%%\n"
    }
   }
  },
  {
   "cell_type": "code",
   "execution_count": 6,
   "outputs": [
    {
     "name": "stdout",
     "output_type": "stream",
     "text": [
      "45\n",
      "85\n",
      "77\n",
      "199\n",
      "77\n",
      "74\n",
      "183\n",
      "141\n",
      "185\n",
      "73\n",
      "73\n",
      "245\n",
      "96\n",
      "76\n",
      "220\n",
      "122\n",
      "150\n",
      "31\n",
      "204\n",
      "219\n",
      "187\n",
      "60\n",
      "149\n",
      "148\n",
      "77\n",
      "29\n",
      "236\n",
      "174\n",
      "71\n",
      "84\n",
      "11\n",
      "101\n",
      "244\n",
      "219\n",
      "20\n",
      "107\n",
      "129\n",
      "106\n",
      "230\n",
      "16\n",
      "62\n",
      "243\n",
      "49\n",
      "135\n",
      "127\n",
      "3\n",
      "103\n",
      "102\n",
      "233\n",
      "119\n",
      "149\n",
      "75\n",
      "224\n",
      "146\n",
      "209\n",
      "155\n",
      "119\n",
      "148\n",
      "205\n",
      "163\n",
      "64\n",
      "136\n",
      "83\n",
      "124\n"
     ]
    }
   ],
   "source": [
    "for i in encrypted_message:\n",
    "    print(i)"
   ],
   "metadata": {
    "collapsed": false,
    "pycharm": {
     "name": "#%%\n"
    }
   }
  },
  {
   "cell_type": "code",
   "execution_count": 7,
   "outputs": [],
   "source": [
    "b_message = ''.join([format(ord(i), \"08b\") for i in message])"
   ],
   "metadata": {
    "collapsed": false,
    "pycharm": {
     "name": "#%%\n"
    }
   }
  },
  {
   "cell_type": "code",
   "execution_count": 8,
   "outputs": [
    {
     "name": "stdout",
     "output_type": "stream",
     "text": [
      "0110100001100101011011000110110001101111001000000111010001101000011001010111001001100101\n"
     ]
    }
   ],
   "source": [
    "print(b_message)"
   ],
   "metadata": {
    "collapsed": false,
    "pycharm": {
     "name": "#%%\n"
    }
   }
  },
  {
   "cell_type": "code",
   "execution_count": 9,
   "outputs": [],
   "source": [
    "message += key"
   ],
   "metadata": {
    "collapsed": false,
    "pycharm": {
     "name": "#%%\n"
    }
   }
  },
  {
   "cell_type": "code",
   "execution_count": 10,
   "outputs": [
    {
     "name": "stdout",
     "output_type": "stream",
     "text": [
      "hello there$lmfao\n"
     ]
    }
   ],
   "source": [
    "print(message)"
   ],
   "metadata": {
    "collapsed": false,
    "pycharm": {
     "name": "#%%\n"
    }
   }
  },
  {
   "cell_type": "code",
   "execution_count": 26,
   "outputs": [
    {
     "name": "stdout",
     "output_type": "stream",
     "text": [
      "b'-UM\\xc7MJ\\xb7\\x8d\\xb9II\\xf5`L\\xdcz\\x96\\x1f\\xcc\\xdb\\xbb<\\x95\\x94M\\x1d\\xec\\xaeGT\\x0be\\xf4\\xdb\\x14k\\x81j\\xe6\\x10>\\xf31\\x87\\x7f\\x03gf\\xe9w\\x95K\\xe0\\x92\\xd1\\x9bw\\x94\\xcd\\xa3@\\x88S|'\n"
     ]
    }
   ],
   "source": [
    "print(encrypted_message)"
   ],
   "metadata": {
    "collapsed": false,
    "pycharm": {
     "name": "#%%\n"
    }
   }
  },
  {
   "cell_type": "code",
   "execution_count": 28,
   "outputs": [
    {
     "data": {
      "text/plain": "64"
     },
     "execution_count": 28,
     "metadata": {},
     "output_type": "execute_result"
    }
   ],
   "source": [
    "len(encrypted_message)"
   ],
   "metadata": {
    "collapsed": false,
    "pycharm": {
     "name": "#%%\n"
    }
   }
  },
  {
   "cell_type": "code",
   "execution_count": 29,
   "outputs": [
    {
     "data": {
      "text/plain": "6"
     },
     "execution_count": 29,
     "metadata": {},
     "output_type": "execute_result"
    }
   ],
   "source": [
    "len(key)"
   ],
   "metadata": {
    "collapsed": false,
    "pycharm": {
     "name": "#%%\n"
    }
   }
  },
  {
   "cell_type": "code",
   "execution_count": 30,
   "outputs": [
    {
     "name": "stdout",
     "output_type": "stream",
     "text": [
      "70\n"
     ]
    }
   ],
   "source": [
    "expected_output = len(encrypted_message) + len(key)\n",
    "print(expected_output)"
   ],
   "metadata": {
    "collapsed": false,
    "pycharm": {
     "name": "#%%\n"
    }
   }
  },
  {
   "cell_type": "code",
   "execution_count": 36,
   "outputs": [],
   "source": [
    "message_to_add = encrypted_message.decode('latin-1')"
   ],
   "metadata": {
    "collapsed": false,
    "pycharm": {
     "name": "#%%\n"
    }
   }
  },
  {
   "cell_type": "code",
   "execution_count": 37,
   "outputs": [
    {
     "data": {
      "text/plain": "64"
     },
     "execution_count": 37,
     "metadata": {},
     "output_type": "execute_result"
    }
   ],
   "source": [
    "len(message_to_add)"
   ],
   "metadata": {
    "collapsed": false,
    "pycharm": {
     "name": "#%%\n"
    }
   }
  },
  {
   "cell_type": "code",
   "execution_count": 39,
   "outputs": [
    {
     "data": {
      "text/plain": "str"
     },
     "execution_count": 39,
     "metadata": {},
     "output_type": "execute_result"
    }
   ],
   "source": [
    "type(message_to_add)"
   ],
   "metadata": {
    "collapsed": false,
    "pycharm": {
     "name": "#%%\n"
    }
   }
  },
  {
   "cell_type": "code",
   "execution_count": 40,
   "outputs": [
    {
     "name": "stdout",
     "output_type": "stream",
     "text": [
      "-UMÇMJ·¹IIõ`LÜz\u001FÌÛ»<M\u001Dì®GT\u000BeôÛ\u0014kjæ\u0010>ó1\u0003gféwKàÑwÍ£@S|\n"
     ]
    }
   ],
   "source": [
    "print(message_to_add)"
   ],
   "metadata": {
    "collapsed": false,
    "pycharm": {
     "name": "#%%\n"
    }
   }
  },
  {
   "cell_type": "code",
   "execution_count": 41,
   "outputs": [],
   "source": [
    "latin_to_byte = message_to_add.encode('latin-1')"
   ],
   "metadata": {
    "collapsed": false,
    "pycharm": {
     "name": "#%%\n"
    }
   }
  },
  {
   "cell_type": "code",
   "execution_count": 42,
   "outputs": [
    {
     "name": "stdout",
     "output_type": "stream",
     "text": [
      "64\n"
     ]
    }
   ],
   "source": [
    "print(len(latin_to_byte))"
   ],
   "metadata": {
    "collapsed": false,
    "pycharm": {
     "name": "#%%\n"
    }
   }
  },
  {
   "cell_type": "code",
   "execution_count": 43,
   "outputs": [
    {
     "name": "stdout",
     "output_type": "stream",
     "text": [
      "b'-UM\\xc7MJ\\xb7\\x8d\\xb9II\\xf5`L\\xdcz\\x96\\x1f\\xcc\\xdb\\xbb<\\x95\\x94M\\x1d\\xec\\xaeGT\\x0be\\xf4\\xdb\\x14k\\x81j\\xe6\\x10>\\xf31\\x87\\x7f\\x03gf\\xe9w\\x95K\\xe0\\x92\\xd1\\x9bw\\x94\\xcd\\xa3@\\x88S|'\n"
     ]
    }
   ],
   "source": [
    "print(latin_to_byte)"
   ],
   "metadata": {
    "collapsed": false,
    "pycharm": {
     "name": "#%%\n"
    }
   }
  },
  {
   "cell_type": "code",
   "execution_count": 44,
   "outputs": [
    {
     "name": "stdout",
     "output_type": "stream",
     "text": [
      "True\n"
     ]
    }
   ],
   "source": [
    "print(latin_to_byte == encrypted_message)"
   ],
   "metadata": {
    "collapsed": false,
    "pycharm": {
     "name": "#%%\n"
    }
   }
  },
  {
   "cell_type": "code",
   "execution_count": null,
   "outputs": [],
   "source": [
    "key = \"y$B&E)H@McQfTjWn\""
   ],
   "metadata": {
    "collapsed": false,
    "pycharm": {
     "name": "#%%\n"
    }
   }
  }
 ],
 "metadata": {
  "kernelspec": {
   "display_name": "Python 3",
   "language": "python",
   "name": "python3"
  },
  "language_info": {
   "codemirror_mode": {
    "name": "ipython",
    "version": 2
   },
   "file_extension": ".py",
   "mimetype": "text/x-python",
   "name": "python",
   "nbconvert_exporter": "python",
   "pygments_lexer": "ipython2",
   "version": "2.7.6"
  }
 },
 "nbformat": 4,
 "nbformat_minor": 0
}